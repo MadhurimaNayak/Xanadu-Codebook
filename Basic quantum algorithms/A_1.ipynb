{
  "nbformat": 4,
  "nbformat_minor": 0,
  "metadata": {
    "colab": {
      "provenance": [],
      "toc_visible": true,
      "authorship_tag": "ABX9TyOB0LD+4RTsXJZiGxI4xoq4"
    },
    "kernelspec": {
      "name": "python3",
      "display_name": "Python 3"
    },
    "language_info": {
      "name": "python"
    }
  },
  "cells": [
    {
      "cell_type": "markdown",
      "source": [
        "# Importing Libraries"
      ],
      "metadata": {
        "id": "vn0IT8bhKgKt"
      }
    },
    {
      "cell_type": "code",
      "source": [
        "import pennylane as qml\n",
        "from pennylane import numpy as np"
      ],
      "metadata": {
        "id": "0uzqppt2JvOV"
      },
      "execution_count": 22,
      "outputs": []
    },
    {
      "cell_type": "markdown",
      "source": [
        "#Codercise A.1.1"
      ],
      "metadata": {
        "id": "Mtic7zbrK5O7"
      }
    },
    {
      "cell_type": "code",
      "source": [
        "n_bits = 4\n",
        "dev = qml.device(\"default.qubit\", wires=n_bits)\n",
        "\n",
        "@qml.qnode(dev)\n",
        "def naive_circuit():\n",
        "    \"\"\"Create a uniform superposition and return the probabilities.\n",
        "\n",
        "    Returns:\n",
        "        array[float]: Probabilities for observing different outcomes.\n",
        "    \"\"\"\n",
        "    for wire in range(n_bits):\n",
        "\n",
        "        ##################\n",
        "        qml.Hadamard(wires=wire)\n",
        "        ##################\n",
        "\n",
        "\n",
        "\n",
        "    return qml.probs(wires=range(n_bits))\n"
      ],
      "metadata": {
        "id": "GtI3rwaKJ0lQ"
      },
      "execution_count": 31,
      "outputs": []
    }
  ]
}
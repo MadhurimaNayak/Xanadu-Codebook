{
  "nbformat": 4,
  "nbformat_minor": 0,
  "metadata": {
    "colab": {
      "provenance": [],
      "toc_visible": true,
      "authorship_tag": "ABX9TyMairDFC4uSaH7aLvTHklDf"
    },
    "kernelspec": {
      "name": "python3",
      "display_name": "Python 3"
    },
    "language_info": {
      "name": "python"
    }
  },
  "cells": [
    {
      "cell_type": "markdown",
      "source": [
        "# Importing Libraries"
      ],
      "metadata": {
        "id": "vn0IT8bhKgKt"
      }
    },
    {
      "cell_type": "code",
      "source": [
        "import pennylane as qml\n",
        "from pennylane import numpy as np"
      ],
      "metadata": {
        "id": "0uzqppt2JvOV"
      },
      "execution_count": 22,
      "outputs": []
    },
    {
      "cell_type": "markdown",
      "source": [
        "#Codercise A.2.1"
      ],
      "metadata": {
        "id": "Mtic7zbrK5O7"
      }
    },
    {
      "cell_type": "code",
      "source": [
        "def oracle_matrix(combo):\n",
        "    \"\"\"Return the oracle matrix for a secret combination.\n",
        "\n",
        "    Args:\n",
        "        combo (list[int]): A list of bits representing a secret combination.\n",
        "\n",
        "    Returns:\n",
        "        array[float]: The matrix representation of the oracle.\n",
        "    \"\"\"\n",
        "    index = np.ravel_multi_index(combo, [2]*len(combo)) # Index of solution\n",
        "    my_array = np.identity(2**len(combo)) # Create the identity matrix\n",
        "\n",
        "    ##################\n",
        "    my_array[index,index]=-1\n",
        "    ##################\n",
        "\n",
        "    # MODIFY DIAGONAL ENTRY CORRESPONDING TO SOLUTION INDEX\n",
        "\n",
        "    return my_array\n"
      ],
      "metadata": {
        "id": "GtI3rwaKJ0lQ"
      },
      "execution_count": 32,
      "outputs": []
    },
    {
      "cell_type": "markdown",
      "source": [
        "#Codercise A.2.1"
      ],
      "metadata": {
        "id": "HN0gmbyKafYP"
      }
    },
    {
      "cell_type": "code",
      "source": [
        "n_bits = 4\n",
        "dev = qml.device(\"default.qubit\", wires=n_bits)\n",
        "\n",
        "@qml.qnode(dev)\n",
        "def oracle_circuit(combo):\n",
        "    \"\"\"Create a uniform superposition, apply the oracle, and return probabilities.\n",
        "\n",
        "    Args:\n",
        "        combo (list[int]): A list of bits representing a secret combination.\n",
        "\n",
        "    Returns:\n",
        "        list[float]: The output probabilities.\n",
        "    \"\"\"\n",
        "\n",
        "    ##################\n",
        "    for wire in range(n_bits):\n",
        "        qml.Hadamard(wires=wire)\n",
        "\n",
        "    array=oracle_matrix(combo)\n",
        "    qml.QubitUnitary(array,wires=list(range(n_bits)))\n",
        "    ##################\n",
        "\n",
        "    return qml.probs(wires=range(n_bits))\n"
      ],
      "metadata": {
        "id": "Znpt0othaqYS"
      },
      "execution_count": 33,
      "outputs": []
    }
  ]
}
{
  "nbformat": 4,
  "nbformat_minor": 0,
  "metadata": {
    "colab": {
      "provenance": [],
      "toc_visible": true,
      "authorship_tag": "ABX9TyO60d3txhcMgAkK6yiaFWY0"
    },
    "kernelspec": {
      "name": "python3",
      "display_name": "Python 3"
    },
    "language_info": {
      "name": "python"
    }
  },
  "cells": [
    {
      "cell_type": "markdown",
      "source": [
        "# Importing Libraries"
      ],
      "metadata": {
        "id": "vn0IT8bhKgKt"
      }
    },
    {
      "cell_type": "code",
      "source": [
        "import pennylane as qml\n",
        "from pennylane import numpy as np"
      ],
      "metadata": {
        "id": "0uzqppt2JvOV"
      },
      "execution_count": 2,
      "outputs": []
    },
    {
      "cell_type": "markdown",
      "source": [
        "#Codercise I.12.1."
      ],
      "metadata": {
        "id": "Mtic7zbrK5O7"
      }
    },
    {
      "cell_type": "code",
      "source": [
        "\n",
        "num_wires = 2\n",
        "dev = qml.device('default.qubit', wires=num_wires)\n",
        "\n",
        "@qml.qnode(dev)\n",
        "def apply_cnot(basis_id):\n",
        "    \"\"\"Apply a CNOT to |basis_id>.\n",
        "\n",
        "    Args:\n",
        "        basis_id (int): An integer value identifying the basis state to construct.\n",
        "\n",
        "    Returns:\n",
        "        array[complex]: The resulting state after applying CNOT|basis_id>.\n",
        "    \"\"\"\n",
        "\n",
        "    # Prepare the basis state |basis_id>\n",
        "    bits = [int(x) for x in np.binary_repr(basis_id, width=len(dev.wires))]\n",
        "    qml.BasisStatePreparation(bits, wires=[0, 1])\n",
        "\n",
        "    ##################\n",
        "    qml.CNOT(wires=[0,1])\n",
        "    ##################\n",
        "\n",
        "    # APPLY THE CNOT\n",
        "\n",
        "    return qml.state()\n",
        "\n",
        "\n",
        "##################\n",
        "# YOUR CODE HERE #\n",
        "##################\n",
        "\n",
        "# REPLACE THE BIT STRINGS VALUES BELOW WITH THE CORRECT ONES\n",
        "cnot_truth_table = {\n",
        "    \"00\" : \"00\",\n",
        "    \"01\" : \"01\",\n",
        "    \"10\" : \"11\",\n",
        "    \"11\" : \"10\"\n",
        "}\n",
        "\n",
        "\n",
        "# Run your QNode with various inputs to help fill in your truth table\n",
        "print(apply_cnot(0))\n",
        "print(apply_cnot(1))\n",
        "print(apply_cnot(2))\n",
        "print(apply_cnot(3))\n"
      ],
      "metadata": {
        "id": "GtI3rwaKJ0lQ",
        "colab": {
          "base_uri": "https://localhost:8080/"
        },
        "outputId": "9a90fad3-a49d-4827-bb30-782543b896a0"
      },
      "execution_count": 19,
      "outputs": [
        {
          "output_type": "stream",
          "name": "stdout",
          "text": [
            "[1.+0.j 0.+0.j 0.+0.j 0.+0.j]\n",
            "[0.+0.j 1.+0.j 0.+0.j 0.+0.j]\n",
            "[0.+0.j 0.+0.j 0.+0.j 1.+0.j]\n",
            "[0.+0.j 0.+0.j 1.+0.j 0.+0.j]\n"
          ]
        }
      ]
    },
    {
      "cell_type": "markdown",
      "source": [
        "# Codercise I.12.2."
      ],
      "metadata": {
        "id": "doh2twJgLLyf"
      }
    },
    {
      "cell_type": "code",
      "source": [
        "dev = qml.device(\"default.qubit\", wires=2)\n",
        "\n",
        "@qml.qnode(dev)\n",
        "def apply_h_cnot():\n",
        "    ##################\n",
        "    qml.Hadamard(wires=0)\n",
        "    qml.CNOT(wires=[0,1])\n",
        "    ##################\n",
        "\n",
        "    # APPLY THE OPERATIONS IN THE CIRCUIT\n",
        "\n",
        "    return qml.state()\n",
        "\n",
        "\n",
        "print(apply_h_cnot())\n",
        "\n",
        "##################\n",
        "# YOUR CODE HERE #\n",
        "##################\n",
        "\n",
        "# SET THIS AS 'separable' OR 'entangled' BASED ON YOUR OUTCOME\n",
        "state_status = \"entangled\"\n"
      ],
      "metadata": {
        "id": "3RvBBxDlJ2ie",
        "colab": {
          "base_uri": "https://localhost:8080/"
        },
        "outputId": "f3396013-33e2-4974-cde5-93c06cd8ff6c"
      },
      "execution_count": 20,
      "outputs": [
        {
          "output_type": "stream",
          "name": "stdout",
          "text": [
            "[0.70710678+0.j 0.        +0.j 0.        +0.j 0.70710678+0.j]\n"
          ]
        }
      ]
    },
    {
      "cell_type": "markdown",
      "source": [
        "# Codercise I.12.3."
      ],
      "metadata": {
        "id": "-WMV1DppLZDp"
      }
    },
    {
      "cell_type": "code",
      "source": [
        "dev = qml.device('default.qubit', wires=3)\n",
        "\n",
        "@qml.qnode(dev)\n",
        "def controlled_rotations(theta, phi, omega):\n",
        "    \"\"\"Implement the circuit above and return measurement outcome probabilities.\n",
        "\n",
        "    Args:\n",
        "        theta (float): A rotation angle\n",
        "        phi (float): A rotation angle\n",
        "        omega (float): A rotation angle\n",
        "\n",
        "    Returns:\n",
        "        array[float]: Measurement outcome probabilities of the 3-qubit\n",
        "        computational basis states.\n",
        "    \"\"\"\n",
        "\n",
        "    ##################\n",
        "    qml.Hadamard(wires=0)\n",
        "    qml.CRX(theta,wires=[0,1])\n",
        "    qml.CRY(phi,wires=[1,2])\n",
        "    qml.CRZ(omega,wires=[2,0])\n",
        "    ##################\n",
        "\n",
        "    # APPLY THE OPERATIONS IN THE CIRCUIT AND RETURN MEASUREMENT PROBABILITIES\n",
        "\n",
        "    return qml.probs(wires=[0,1,2])\n",
        "\n",
        "theta, phi, omega = 0.1, 0.2, 0.3\n",
        "print(controlled_rotations(theta, phi, omega))\n"
      ],
      "metadata": {
        "id": "rJA1hLsKJ61c",
        "colab": {
          "base_uri": "https://localhost:8080/"
        },
        "outputId": "aa918173-a900-46ea-88ac-aa316d2a7c93"
      },
      "execution_count": 21,
      "outputs": [
        {
          "output_type": "stream",
          "name": "stdout",
          "text": [
            "[5.00000000e-01 0.00000000e+00 0.00000000e+00 0.00000000e+00\n",
            " 4.98751041e-01 0.00000000e+00 1.23651067e-03 1.24480103e-05]\n"
          ]
        }
      ]
    }
  ]
}
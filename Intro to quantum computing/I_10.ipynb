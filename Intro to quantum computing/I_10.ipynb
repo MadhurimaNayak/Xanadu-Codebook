{
  "nbformat": 4,
  "nbformat_minor": 0,
  "metadata": {
    "colab": {
      "provenance": [],
      "toc_visible": true,
      "authorship_tag": "ABX9TyNdUVGBeveuEvy70VyPdlOy"
    },
    "kernelspec": {
      "name": "python3",
      "display_name": "Python 3"
    },
    "language_info": {
      "name": "python"
    }
  },
  "cells": [
    {
      "cell_type": "markdown",
      "source": [
        "# Importing Libraries"
      ],
      "metadata": {
        "id": "vn0IT8bhKgKt"
      }
    },
    {
      "cell_type": "code",
      "source": [
        "import pennylane as qml\n",
        "from pennylane import numpy as np"
      ],
      "metadata": {
        "id": "0uzqppt2JvOV"
      },
      "execution_count": 2,
      "outputs": []
    },
    {
      "cell_type": "markdown",
      "source": [
        "#Codercise I.10.1."
      ],
      "metadata": {
        "id": "Mtic7zbrK5O7"
      }
    },
    {
      "cell_type": "code",
      "source": [
        "dev = qml.device('default.qubit', wires=1)\n",
        "\n",
        "@qml.qnode(dev)\n",
        "def circuit():\n",
        "    ##################\n",
        "    qml.RX(np.pi/4,wires=0)\n",
        "    qml.Hadamard(wires=0)\n",
        "    qml.PauliZ(wires=0)\n",
        "    ##################\n",
        "\n",
        "    # IMPLEMENT THE CIRCUIT IN THE PICTURE AND MEASURE PAULI Y\n",
        "\n",
        "    return qml.expval(qml.PauliY(0))\n",
        "\n",
        "print(circuit())\n"
      ],
      "metadata": {
        "id": "GtI3rwaKJ0lQ",
        "colab": {
          "base_uri": "https://localhost:8080/"
        },
        "outputId": "86be3ab7-7f76-4066-dac9-9fa6ca649198"
      },
      "execution_count": 9,
      "outputs": [
        {
          "output_type": "stream",
          "name": "stdout",
          "text": [
            "-0.7071067811865471\n"
          ]
        }
      ]
    },
    {
      "cell_type": "markdown",
      "source": [
        "# Codercise I.10.2."
      ],
      "metadata": {
        "id": "doh2twJgLLyf"
      }
    },
    {
      "cell_type": "code",
      "source": [
        "# An array to store your results\n",
        "shot_results = [0,0,0,0,0]\n",
        "i=0\n",
        "\n",
        "# Different numbers of shots\n",
        "shot_values = [100, 1000, 10000, 100000, 1000000]\n",
        "\n",
        "for j in shot_values:\n",
        "    ##################\n",
        "    # YOUR CODE HERE #\n",
        "    ##################\n",
        "\n",
        "    # CREATE A DEVICE, CREATE A QNODE, AND RUN IT\n",
        "    dev=qml.device(\"default.qubit\",wires=0,shots=j)\n",
        "    @qml.qnode(dev)\n",
        "    def device():\n",
        "        qml.RX(np.pi/4,wires=0)\n",
        "        qml.Hadamard(wires=0)\n",
        "        qml.PauliZ(wires=0)\n",
        "        return qml.expval(qml.PauliY(0))\n",
        "\n",
        "\n",
        "    # STORE RESULT IN SHOT_RESULTS ARRAY\n",
        "    shot_results[i]=device()\n",
        "    i+=1\n",
        "\n",
        "print(qml.math.unwrap(shot_results))\n"
      ],
      "metadata": {
        "id": "3RvBBxDlJ2ie",
        "colab": {
          "base_uri": "https://localhost:8080/"
        },
        "outputId": "47f0419d-1f80-41a6-c74a-ca1277bc160d"
      },
      "execution_count": 10,
      "outputs": [
        {
          "output_type": "stream",
          "name": "stdout",
          "text": [
            "[-0.72, -0.718, -0.7088, -0.70524, -0.70685]\n"
          ]
        }
      ]
    },
    {
      "cell_type": "markdown",
      "source": [
        "# Codercise I.10.3."
      ],
      "metadata": {
        "id": "-WMV1DppLZDp"
      }
    },
    {
      "cell_type": "code",
      "source": [
        "dev = qml.device(\"default.qubit\", wires=1, shots=100000)\n",
        "\n",
        "@qml.qnode(dev)\n",
        "def circuit():\n",
        "    qml.RX(np.pi/4, wires=0)\n",
        "    qml.Hadamard(wires=0)\n",
        "    qml.PauliZ(wires=0)\n",
        "\n",
        "    ##################\n",
        "    # YOUR CODE HERE #\n",
        "    ##################\n",
        "\n",
        "    # RETURN THE MEASUREMENT SAMPLES OF THE CORRECT OBSERVABLE\n",
        "\n",
        "    return qml.sample(qml.PauliY(0))\n",
        "\n",
        "\n",
        "def compute_expval_from_samples(samples):\n",
        "    \"\"\"Compute the expectation value of an observable given a set of\n",
        "    sample outputs. You can assume that there are two possible outcomes,\n",
        "    1 and -1.\n",
        "\n",
        "    Args:\n",
        "        samples (array[float]): 100000 samples representing the results of\n",
        "            running the above circuit.\n",
        "\n",
        "    Returns:\n",
        "        float: the expectation value computed based on samples.\n",
        "    \"\"\"\n",
        "\n",
        "    estimated_expval = 0\n",
        "\n",
        "    ##################\n",
        "    plus=minus=0\n",
        "    for i in range (len(samples)):\n",
        "        if samples[i]==1:\n",
        "            plus+=1\n",
        "        else:\n",
        "            minus+=1\n",
        "    ##################\n",
        "\n",
        "    # USE THE SAMPLES TO ESTIMATE THE EXPECTATION VALUE\n",
        "    estimated_expval=(plus+((-1)*minus))/len(samples)\n",
        "\n",
        "    return estimated_expval\n",
        "\n",
        "\n",
        "samples = circuit()\n",
        "print(compute_expval_from_samples(samples))\n"
      ],
      "metadata": {
        "id": "rJA1hLsKJ61c",
        "colab": {
          "base_uri": "https://localhost:8080/"
        },
        "outputId": "06c7dd5a-9d33-4853-af54-6a7607080e9a"
      },
      "execution_count": 11,
      "outputs": [
        {
          "output_type": "stream",
          "name": "stdout",
          "text": [
            "-0.7096\n"
          ]
        }
      ]
    },
    {
      "cell_type": "markdown",
      "source": [
        "#Codercise I.10.4."
      ],
      "metadata": {
        "id": "r_08bb4rJ3kA"
      }
    },
    {
      "cell_type": "code",
      "source": [
        "def variance_experiment(n_shots):\n",
        "    \"\"\"Run an experiment to determine the variance in an expectation\n",
        "    value computed with a given number of shots.\n",
        "\n",
        "    Args:\n",
        "        n_shots (int): The number of shots\n",
        "\n",
        "    Returns:\n",
        "        float: The variance in expectation value we obtain running the\n",
        "        circuit 100 times with n_shots shots each.\n",
        "    \"\"\"\n",
        "\n",
        "    # To obtain a variance, we run the circuit multiple times at each shot value.\n",
        "    n_trials = 100\n",
        "\n",
        "    ##################\n",
        "    # YOUR CODE HERE #\n",
        "    ##################\n",
        "\n",
        "    # CREATE A DEVICE WITH GIVEN NUMBER OF SHOTS\n",
        "    dev=qml.device(\"default.qubit\",wires=1,shots=n_shots)\n",
        "    @qml.qnode(dev)\n",
        "\n",
        "    # DECORATE THE CIRCUIT BELOW TO CREATE A QNODE\n",
        "\n",
        "    def circuit():\n",
        "        qml.Hadamard(wires=0)\n",
        "        return qml.expval(qml.PauliZ(wires=0))\n",
        "\n",
        "    # RUN THE QNODE N_TRIALS TIMES AND RETURN THE VARIANCE OF THE RESULTS\n",
        "    arr=[0]*n_trials\n",
        "    for i in range(n_trials):\n",
        "        arr[i]=circuit()\n",
        "\n",
        "    return np.var(arr)\n",
        "\n",
        "\n",
        "def variance_scaling(n_shots):\n",
        "    \"\"\"Once you have determined how the variance in expectation value scales\n",
        "    with the number of shots, complete this function to programmatically\n",
        "    represent the relationship.\n",
        "\n",
        "    Args:\n",
        "        n_shots (int): The number of shots\n",
        "\n",
        "    Returns:\n",
        "        float: The variance in expectation value we expect to see when we run\n",
        "        an experiment with n_shots shots.\n",
        "    \"\"\"\n",
        "\n",
        "    estimated_variance = 1/n_shots\n",
        "\n",
        "    ##################\n",
        "    # YOUR CODE HERE #\n",
        "    ##################\n",
        "\n",
        "    # ESTIMATE THE VARIANCE BASED ON SHOT NUMBER\n",
        "\n",
        "    return estimated_variance\n",
        "\n",
        "# Various numbers of shots; you can change this\n",
        "shot_vals = [10, 20, 40, 100, 200, 400, 1000, 2000, 4000]\n",
        "\n",
        "# Used to plot your results\n",
        "results_experiment = [variance_experiment(shots) for shots in shot_vals]\n",
        "results_scaling = [variance_scaling(shots) for shots in shot_vals]\n"
      ],
      "metadata": {
        "id": "2WCJ8E75KDV5"
      },
      "execution_count": 13,
      "outputs": []
    }
  ]
}
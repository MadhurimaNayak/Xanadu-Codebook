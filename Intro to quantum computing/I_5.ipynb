{
  "nbformat": 4,
  "nbformat_minor": 0,
  "metadata": {
    "colab": {
      "provenance": [],
      "toc_visible": true,
      "authorship_tag": "ABX9TyP8u6uwkAUOTdD2/9zdNdtm"
    },
    "kernelspec": {
      "name": "python3",
      "display_name": "Python 3"
    },
    "language_info": {
      "name": "python"
    }
  },
  "cells": [
    {
      "cell_type": "markdown",
      "source": [
        "# Importing Libraries"
      ],
      "metadata": {
        "id": "vn0IT8bhKgKt"
      }
    },
    {
      "cell_type": "code",
      "source": [
        "import pennylane as qml\n",
        "from pennylane import numpy as np"
      ],
      "metadata": {
        "id": "0uzqppt2JvOV"
      },
      "execution_count": 2,
      "outputs": []
    },
    {
      "cell_type": "markdown",
      "source": [
        "#Codercise I.5.1."
      ],
      "metadata": {
        "id": "Mtic7zbrK5O7"
      }
    },
    {
      "cell_type": "code",
      "source": [
        "dev = qml.device(\"default.qubit\", wires=1)\n",
        "\n",
        "@qml.qnode(dev)\n",
        "def apply_z_to_plus():\n",
        "    \"\"\"Write a circuit that applies PauliZ to the |+> state and returns\n",
        "    the state.\n",
        "\n",
        "    Returns:\n",
        "        array[complex]: The state of the qubit after the operations.\n",
        "    \"\"\"\n",
        "\n",
        "    ##################\n",
        "    qml.Hadamard(wires=0)\n",
        "    qml.PauliZ(wires=0)\n",
        "    ##################\n",
        "\n",
        "    # CREATE THE |+> STATE\n",
        "\n",
        "    # APPLY PAULI Z\n",
        "\n",
        "    # RETURN THE STATE\n",
        "    return qml.state()\n",
        "\n",
        "print(apply_z_to_plus())\n"
      ],
      "metadata": {
        "colab": {
          "base_uri": "https://localhost:8080/"
        },
        "id": "GtI3rwaKJ0lQ",
        "outputId": "55e142e9-49b5-4ca5-c211-97f11abcd72d"
      },
      "execution_count": 7,
      "outputs": [
        {
          "output_type": "stream",
          "name": "stdout",
          "text": [
            "[ 0.70710678+0.j -0.70710678+0.j]\n"
          ]
        }
      ]
    },
    {
      "cell_type": "markdown",
      "source": [
        "# Codercise I.5.2."
      ],
      "metadata": {
        "id": "doh2twJgLLyf"
      }
    },
    {
      "cell_type": "code",
      "source": [
        "dev = qml.device(\"default.qubit\", wires=1)\n",
        "\n",
        "@qml.qnode(dev)\n",
        "def fake_z():\n",
        "    \"\"\"Use RZ to produce the same action as Pauli Z on the |+> state.\n",
        "\n",
        "    Returns:\n",
        "        array[complex]: The state of the qubit after the operations.\n",
        "    \"\"\"\n",
        "\n",
        "    ##################\n",
        "    qml.Hadamard(wires=0)\n",
        "    qml.RZ(np.pi,wires=0)\n",
        "    ##################\n",
        "\n",
        "    # CREATE THE |+> STATE\n",
        "\n",
        "    # APPLY RZ\n",
        "\n",
        "    # RETURN THE STATE\n",
        "    return qml.state()\n"
      ],
      "metadata": {
        "id": "3RvBBxDlJ2ie"
      },
      "execution_count": 10,
      "outputs": []
    },
    {
      "cell_type": "markdown",
      "source": [
        "# Codercise I.5.3."
      ],
      "metadata": {
        "id": "-WMV1DppLZDp"
      }
    },
    {
      "cell_type": "code",
      "source": [
        "dev = qml.device(\"default.qubit\", wires=1)\n",
        "\n",
        "@qml.qnode(dev)\n",
        "def fake_z():\n",
        "    \"\"\"Use RZ to produce the same action as Pauli Z on the |+> state.\n",
        "\n",
        "    Returns:\n",
        "        array[complex]: The state of the qubit after the operations.\n",
        "    \"\"\"\n",
        "\n",
        "    ##################\n",
        "    qml.Hadamard(wires=0)\n",
        "    qml.RZ(np.pi,wires=0)\n",
        "    ##################\n",
        "\n",
        "    # CREATE THE |+> STATE\n",
        "\n",
        "    # APPLY RZ\n",
        "\n",
        "    # RETURN THE STATE\n",
        "    return qml.state()\n"
      ],
      "metadata": {
        "id": "rJA1hLsKJ61c"
      },
      "execution_count": 11,
      "outputs": []
    },
    {
      "cell_type": "markdown",
      "source": [
        "# Codercise I.5.4."
      ],
      "metadata": {
        "id": "uQXtoyVwLqwS"
      }
    },
    {
      "cell_type": "code",
      "source": [
        "dev = qml.device('default.qubit', wires=3)\n",
        "\n",
        "@qml.qnode(dev)\n",
        "def too_many_ts():\n",
        "    \"\"\"You can implement the original circuit here as well, it may help you with\n",
        "    testing to ensure that the circuits have the same effect.\n",
        "\n",
        "    Returns:\n",
        "        array[float]: The measurement outcome probabilities.\n",
        "    \"\"\"\n",
        "\n",
        "    return qml.probs(wires=[0, 1, 2])\n",
        "\n",
        "@qml.qnode(dev)\n",
        "def just_enough_ts():\n",
        "    \"\"\"Implement an equivalent circuit as the above with the minimum number of\n",
        "    T and T^\\dagger gates required.\n",
        "\n",
        "    Returns:\n",
        "        array[float]: The measurement outcome probabilities.\n",
        "    \"\"\"\n",
        "\n",
        "    ##################\n",
        "    qml.Hadamard(wires=0)\n",
        "    qml.Hadamard(wires=1)\n",
        "    qml.Hadamard(wires=2)\n",
        "    qml.S(wires=0)\n",
        "    qml.T(wires=1)\n",
        "    qml.adjoint(qml.T)(wires=2)\n",
        "    qml.Hadamard(wires=0)\n",
        "    qml.Hadamard(wires=1)\n",
        "    qml.Hadamard(wires=2)\n",
        "    qml.adjoint(qml.S)(wires=0)\n",
        "    qml.PauliZ(wires=1)\n",
        "    qml.adjoint(qml.S)(wires=2)\n",
        "    qml.adjoint(qml.T)(wires=2)\n",
        "    qml.Hadamard(wires=0)\n",
        "    qml.Hadamard(wires=1)\n",
        "    qml.Hadamard(wires=2)\n",
        "    ##################\n",
        "\n",
        "    # IMPLEMENT THE CIRCUIT, BUT COMBINE AND OPTIMIZE THE GATES\n",
        "    # TO MINIMIZE THE NUMBER OF TS\n",
        "\n",
        "    return qml.probs(wires=[0, 1, 2])\n",
        "\n",
        "##################\n",
        "# YOUR CODE HERE #\n",
        "##################\n",
        "\n",
        "# FILL IN THE CORRECT VALUES FOR THE ORIGINAL CIRCUIT\n",
        "original_depth = 8\n",
        "original_t_count = 13\n",
        "original_t_depth = 6\n",
        "\n",
        "# FILL IN THE CORRECT VALUES FOR THE NEW, OPTIMIZED CIRCUIT\n",
        "optimal_depth = 6\n",
        "optimal_t_count = 3\n",
        "optimal_t_depth = 2\n"
      ],
      "metadata": {
        "id": "p0hSIrY-LwbD"
      },
      "execution_count": 12,
      "outputs": []
    }
  ]
}
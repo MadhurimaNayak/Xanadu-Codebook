{
  "nbformat": 4,
  "nbformat_minor": 0,
  "metadata": {
    "colab": {
      "provenance": [],
      "authorship_tag": "ABX9TyMhxcs1TQny9G+OoTYd83Hn"
    },
    "kernelspec": {
      "name": "python3",
      "display_name": "Python 3"
    },
    "language_info": {
      "name": "python"
    }
  },
  "cells": [
    {
      "cell_type": "code",
      "source": [
        "import pennylane as qml\n",
        "from pennylane import numpy as np"
      ],
      "metadata": {
        "id": "0uzqppt2JvOV"
      },
      "execution_count": 2,
      "outputs": []
    },
    {
      "cell_type": "code",
      "source": [
        "dev = qml.device(\"default.qubit\", wires=1)\n",
        "\n",
        "U = np.array([[1, 1], [1, -1]]) / np.sqrt(2)\n",
        "\n",
        "@qml.qnode(dev)\n",
        "def varied_initial_state(state):\n",
        "    \"\"\"Complete the function such that we can apply the operation U to\n",
        "    either |0> or |1> depending on the input argument flag.\n",
        "\n",
        "    Args:\n",
        "        state (int): Either 0 or 1. If 1, prepare the qubit in state |1>,\n",
        "            otherwise, leave it in state 0.\n",
        "\n",
        "    Returns:\n",
        "        array[complex]: The state of the qubit after the operations.\n",
        "    \"\"\"\n",
        "    ##################\n",
        "    if state==1:\n",
        "        qml.PauliX(wires=0)\n",
        "    qml.QubitUnitary(U,wires=0)\n",
        "    ##################\n",
        "\n",
        "    # KEEP THE QUBIT IN |0> OR CHANGE IT TO |1> DEPENDING ON THE state PARAMETER\n",
        "\n",
        "    # APPLY U TO THE STATE\n",
        "\n",
        "\n",
        "    return qml.state()\n"
      ],
      "metadata": {
        "id": "GtI3rwaKJ0lQ"
      },
      "execution_count": 3,
      "outputs": []
    },
    {
      "cell_type": "code",
      "source": [
        "dev = qml.device(\"default.qubit\", wires=1)\n",
        "\n",
        "@qml.qnode(dev)\n",
        "def apply_hadamard():\n",
        "    ##################\n",
        "    qml.Hadamard(wires=0)\n",
        "    ##################\n",
        "\n",
        "    # APPLY THE HADAMARD GATE\n",
        "\n",
        "    # RETURN THE STATE\n",
        "    return qml.state()\n"
      ],
      "metadata": {
        "id": "3RvBBxDlJ2ie"
      },
      "execution_count": 4,
      "outputs": []
    },
    {
      "cell_type": "code",
      "source": [
        "dev = qml.device(\"default.qubit\", wires=1)\n",
        "\n",
        "@qml.qnode(dev)\n",
        "def apply_hadamard_to_state(state):\n",
        "    \"\"\"Complete the function such that we can apply the Hadamard to\n",
        "    either |0> or |1> depending on the input argument flag.\n",
        "\n",
        "    Args:\n",
        "        state (int): Either 0 or 1. If 1, prepare the qubit in state |1>,\n",
        "            otherwise, leave it in state 0.\n",
        "\n",
        "    Returns:\n",
        "        array[complex]: The state of the qubit after the operations.\n",
        "    \"\"\"\n",
        "    ##################\n",
        "    if state==1:\n",
        "        qml.PauliX(wires=0)\n",
        "    qml.Hadamard(wires=0)\n",
        "    return qml.state()\n",
        "    ##################\n",
        "\n",
        "    # KEEP THE QUBIT IN |0> OR CHANGE IT TO |1> DEPENDING ON state\n",
        "\n",
        "    # APPLY THE HADAMARD\n",
        "\n",
        "    # RETURN THE STATE\n",
        "\n",
        "    return\n",
        "\n",
        "print(apply_hadamard_to_state(0))\n",
        "print(apply_hadamard_to_state(1))\n"
      ],
      "metadata": {
        "colab": {
          "base_uri": "https://localhost:8080/"
        },
        "id": "rJA1hLsKJ61c",
        "outputId": "15248f76-262b-43c3-f0a9-32eba2c4b280"
      },
      "execution_count": 5,
      "outputs": [
        {
          "output_type": "stream",
          "name": "stdout",
          "text": [
            "[0.70710678+0.j 0.70710678+0.j]\n",
            "[ 0.70710678+0.j -0.70710678+0.j]\n"
          ]
        }
      ]
    },
    {
      "cell_type": "code",
      "source": [
        "dev=qml.device(\"default.qubit\",wires=1)\n",
        "\n",
        "@qml.qnode(dev)\n",
        "##################\n",
        "def apply_hxh(state):\n",
        "    if(state==1):\n",
        "        qml.PauliX(wires=0)\n",
        "    qml.Hadamard(wires=0)\n",
        "    qml.PauliX(wires=0)\n",
        "    qml.Hadamard(wires=0)\n",
        "    return qml.state()\n",
        "##################\n",
        "\n",
        "# CREATE A DEVICE\n",
        "\n",
        "# CREATE A QNODE CALLED apply_hxh THAT APPLIES THE CIRCUIT ABOVE\n",
        "\n",
        "# Print your results\n",
        "print(apply_hxh(0))\n",
        "print(apply_hxh(1))\n"
      ],
      "metadata": {
        "colab": {
          "base_uri": "https://localhost:8080/"
        },
        "id": "bNHvTxnCKBTq",
        "outputId": "1592d50b-7f8d-42aa-9511-b28b676a7807"
      },
      "execution_count": 6,
      "outputs": [
        {
          "output_type": "stream",
          "name": "stdout",
          "text": [
            "[1.+0.j 0.+0.j]\n",
            "[ 0.+0.j -1.+0.j]\n"
          ]
        }
      ]
    }
  ]
}
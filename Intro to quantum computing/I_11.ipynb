{
  "nbformat": 4,
  "nbformat_minor": 0,
  "metadata": {
    "colab": {
      "provenance": [],
      "toc_visible": true,
      "authorship_tag": "ABX9TyOIyQRLjrs2sD8l3fwQPRNz"
    },
    "kernelspec": {
      "name": "python3",
      "display_name": "Python 3"
    },
    "language_info": {
      "name": "python"
    }
  },
  "cells": [
    {
      "cell_type": "markdown",
      "source": [
        "# Importing Libraries"
      ],
      "metadata": {
        "id": "vn0IT8bhKgKt"
      }
    },
    {
      "cell_type": "code",
      "source": [
        "import pennylane as qml\n",
        "from pennylane import numpy as np"
      ],
      "metadata": {
        "id": "0uzqppt2JvOV"
      },
      "execution_count": 2,
      "outputs": []
    },
    {
      "cell_type": "markdown",
      "source": [
        "#Codercise I.11.1."
      ],
      "metadata": {
        "id": "Mtic7zbrK5O7"
      }
    },
    {
      "cell_type": "code",
      "source": [
        "num_wires = 3\n",
        "dev = qml.device('default.qubit', wires=num_wires)\n",
        "\n",
        "@qml.qnode(dev)\n",
        "def make_basis_state(basis_id):\n",
        "    \"\"\"Produce the 3-qubit basis state corresponding to |basis_id>.\n",
        "\n",
        "    Note that the system starts in |000>.\n",
        "\n",
        "    Args:\n",
        "        basis_id (int): An integer value identifying the basis state to construct.\n",
        "\n",
        "    Returns:\n",
        "        array[complex]: The computational basis state |basis_id>.\n",
        "    \"\"\"\n",
        "\n",
        "    ##################\n",
        "    binary=np.binary_repr(basis_id).zfill(3)\n",
        "    list1=[int(x) for x in binary]\n",
        "    for i in range(len(list1)):\n",
        "        if list1[i]==1:\n",
        "            qml.PauliX(wires=i)\n",
        "    ##################\n",
        "\n",
        "    # CREATE THE BASIS STATE\n",
        "\n",
        "    return qml.state()\n",
        "\n",
        "\n",
        "basis_id = 3\n",
        "print(f\"Output state = {make_basis_state(basis_id)}\")\n"
      ],
      "metadata": {
        "id": "GtI3rwaKJ0lQ",
        "colab": {
          "base_uri": "https://localhost:8080/"
        },
        "outputId": "ce2b0b71-9892-4fd0-effc-5ba316bed81c"
      },
      "execution_count": 14,
      "outputs": [
        {
          "output_type": "stream",
          "name": "stdout",
          "text": [
            "Output state = [0.+0.j 0.+0.j 0.+0.j 1.+0.j 0.+0.j 0.+0.j 0.+0.j 0.+0.j]\n"
          ]
        }
      ]
    },
    {
      "cell_type": "markdown",
      "source": [
        "# Codercise I.11.2."
      ],
      "metadata": {
        "id": "doh2twJgLLyf"
      }
    },
    {
      "cell_type": "code",
      "source": [
        "# Creates a device with *two* qubits\n",
        "dev = qml.device('default.qubit', wires=2)\n",
        "\n",
        "@qml.qnode(dev)\n",
        "def two_qubit_circuit():\n",
        "    ##################\n",
        "    qml.Hadamard(wires=0)\n",
        "    qml.PauliX(wires=1)\n",
        "    ##################\n",
        "\n",
        "    # PREPARE |+>|1>\n",
        "\n",
        "    # RETURN TWO EXPECTATION VALUES, Y ON FIRST QUBIT, Z ON SECOND QUBIT\n",
        "\n",
        "    return (qml.expval(qml.PauliY(0)),qml.expval(qml.PauliZ(1)))\n",
        "\n",
        "\n",
        "print(two_qubit_circuit())\n"
      ],
      "metadata": {
        "id": "3RvBBxDlJ2ie",
        "colab": {
          "base_uri": "https://localhost:8080/"
        },
        "outputId": "9e631b2d-ae88-4412-c292-a9cb8aa9e7ee"
      },
      "execution_count": 15,
      "outputs": [
        {
          "output_type": "stream",
          "name": "stdout",
          "text": [
            "(tensor(0., requires_grad=True), tensor(-1., requires_grad=True))\n"
          ]
        }
      ]
    },
    {
      "cell_type": "markdown",
      "source": [
        "# Codercise I.11.3."
      ],
      "metadata": {
        "id": "-WMV1DppLZDp"
      }
    },
    {
      "cell_type": "code",
      "source": [
        "dev = qml.device(\"default.qubit\", wires=2)\n",
        "\n",
        "@qml.qnode(dev)\n",
        "def create_one_minus():\n",
        "    ##################\n",
        "    qml.PauliX(wires=0)\n",
        "    qml.PauliX(wires=1)\n",
        "    qml.Hadamard(wires=1)\n",
        "    ##################\n",
        "\n",
        "    # PREPARE |1>|->\n",
        "\n",
        "    # RETURN A SINGLE EXPECTATION VALUE Z \\otimes X\n",
        "\n",
        "    return qml.expval(qml.PauliZ(0)@qml.PauliX(1))\n",
        "\n",
        "\n",
        "print(create_one_minus())\n"
      ],
      "metadata": {
        "id": "rJA1hLsKJ61c",
        "colab": {
          "base_uri": "https://localhost:8080/"
        },
        "outputId": "fb9f8833-cf58-420a-bd8c-47bd25ea0fac"
      },
      "execution_count": 16,
      "outputs": [
        {
          "output_type": "stream",
          "name": "stdout",
          "text": [
            "0.9999999999999996\n"
          ]
        }
      ]
    },
    {
      "cell_type": "markdown",
      "source": [
        "#Codercise I.11.4."
      ],
      "metadata": {
        "id": "r_08bb4rJ3kA"
      }
    },
    {
      "cell_type": "code",
      "source": [
        "dev = qml.device('default.qubit', wires=2)\n",
        "\n",
        "@qml.qnode(dev)\n",
        "def circuit_1(theta):\n",
        "    \"\"\"Implement the circuit and measure Z I and I Z.\n",
        "\n",
        "    Args:\n",
        "        theta (float): a rotation angle.\n",
        "\n",
        "    Returns:\n",
        "        float, float: The expectation values of the observables Z I, and I Z\n",
        "    \"\"\"\n",
        "    ##################\n",
        "    qml.RX(theta,wires=0)\n",
        "    qml.RY(2*theta,wires=0)\n",
        "    ##################\n",
        "\n",
        "    return (qml.expval(qml.PauliZ(0)),qml.expval(qml.PauliZ(1)))\n",
        "\n",
        "\n",
        "@qml.qnode(dev)\n",
        "def circuit_2(theta):\n",
        "    \"\"\"Implement the circuit and measure Z Z.\n",
        "\n",
        "    Args:\n",
        "        theta (float): a rotation angle.\n",
        "\n",
        "    Returns:\n",
        "        float: The expectation value of the observable Z Z\n",
        "    \"\"\"\n",
        "\n",
        "    ##################\n",
        "    qml.RX(theta,wires=0)\n",
        "    qml.RY(2*theta,wires=0)\n",
        "    ##################\n",
        "\n",
        "    return qml.expval(qml.PauliZ(0)@qml.PauliZ(1))\n",
        "\n",
        "\n",
        "def zi_iz_combination(ZI_results, IZ_results):\n",
        "    \"\"\"Implement a function that acts on the ZI and IZ results to\n",
        "    produce the ZZ results. How do you think they should combine?\n",
        "\n",
        "    Args:\n",
        "        ZI_results (array[float]): Results from the expectation value of\n",
        "            ZI in circuit_1.\n",
        "        IZ_results (array[float]): Results from the expectation value of\n",
        "            IZ in circuit_2.\n",
        "\n",
        "    Returns:\n",
        "        array[float]: A combination of ZI_results and IZ_results that\n",
        "        produces results equivalent to measuring ZZ.\n",
        "    \"\"\"\n",
        "\n",
        "    combined_results = np.zeros(len(ZI_results))\n",
        "\n",
        "    ##################\n",
        "    combined_results=ZI_results*IZ_results\n",
        "    ##################\n",
        "\n",
        "    return combined_results\n",
        "\n",
        "\n",
        "theta = np.linspace(0, 2 * np.pi, 100)\n",
        "\n",
        "# Run circuit 1, and process the results\n",
        "circuit_1_results = np.array([circuit_1(t) for t in theta])\n",
        "\n",
        "ZI_results = circuit_1_results[:, 0]\n",
        "IZ_results = circuit_1_results[:, 1]\n",
        "combined_results = zi_iz_combination(ZI_results, IZ_results)\n",
        "\n",
        "# Run circuit 2\n",
        "ZZ_results = np.array([circuit_2(t) for t in theta])\n",
        "\n",
        "# Plot your results\n"
      ],
      "metadata": {
        "id": "2WCJ8E75KDV5"
      },
      "execution_count": 18,
      "outputs": []
    }
  ]
}
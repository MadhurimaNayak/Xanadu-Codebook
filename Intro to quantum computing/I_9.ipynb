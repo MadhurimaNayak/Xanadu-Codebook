{
  "nbformat": 4,
  "nbformat_minor": 0,
  "metadata": {
    "colab": {
      "provenance": [],
      "toc_visible": true,
      "authorship_tag": "ABX9TyPczURlrz4Kxat0cImJ1+q7"
    },
    "kernelspec": {
      "name": "python3",
      "display_name": "Python 3"
    },
    "language_info": {
      "name": "python"
    }
  },
  "cells": [
    {
      "cell_type": "markdown",
      "source": [
        "# Importing Libraries"
      ],
      "metadata": {
        "id": "vn0IT8bhKgKt"
      }
    },
    {
      "cell_type": "code",
      "source": [
        "import pennylane as qml\n",
        "from pennylane import numpy as np"
      ],
      "metadata": {
        "id": "0uzqppt2JvOV"
      },
      "execution_count": 2,
      "outputs": []
    },
    {
      "cell_type": "markdown",
      "source": [
        "#Codercise I.9.1."
      ],
      "metadata": {
        "id": "Mtic7zbrK5O7"
      }
    },
    {
      "cell_type": "code",
      "source": [
        "dev = qml.device(\"default.qubit\", wires=1)\n",
        "\n",
        "@qml.qnode(dev)\n",
        "def apply_h_and_measure(state):\n",
        "    \"\"\"Complete the function such that we apply the Hadamard gate\n",
        "    and measure in the computational basis.\n",
        "\n",
        "    Args:\n",
        "        state (int): Either 0 or 1. If 1, prepare the qubit in state |1>,\n",
        "            otherwise leave it in state 0.\n",
        "\n",
        "    Returns:\n",
        "        array[float]: The measurement outcome probabilities.\n",
        "    \"\"\"\n",
        "    if state == 1:\n",
        "        qml.PauliX(wires=0)\n",
        "\n",
        "    ##################\n",
        "    qml.Hadamard(wires=0)\n",
        "    ##################\n",
        "\n",
        "    # APPLY HADAMARD AND MEASURE\n",
        "\n",
        "    return qml.probs(wires=0)\n",
        "\n",
        "print(apply_h_and_measure(0))\n",
        "print(apply_h_and_measure(1))\n"
      ],
      "metadata": {
        "id": "GtI3rwaKJ0lQ",
        "colab": {
          "base_uri": "https://localhost:8080/"
        },
        "outputId": "7efe1efe-59dc-42c8-b228-1a0a06ca9b62"
      },
      "execution_count": 6,
      "outputs": [
        {
          "output_type": "stream",
          "name": "stdout",
          "text": [
            "[0.5 0.5]\n",
            "[0.5 0.5]\n"
          ]
        }
      ]
    },
    {
      "cell_type": "markdown",
      "source": [
        "# Codercise I.9.2.(a)"
      ],
      "metadata": {
        "id": "doh2twJgLLyf"
      }
    },
    {
      "cell_type": "code",
      "source": [
        "##################\n",
        "# YOUR CODE HERE #\n",
        "##################\n",
        "\n",
        "# WRITE A QUANTUM FUNCTION THAT PREPARES (1/2)|0> + i(sqrt(3)/2)|1>\n",
        "def prepare_psi():\n",
        "    qml.RX(np.pi/3,wires=0)\n",
        "    qml.PauliX(wires=0)\n",
        "\n",
        "\n",
        "# WRITE A QUANTUM FUNCTION THAT SENDS BOTH |0> TO |y_+> and |1> TO |y_->\n",
        "def y_basis_rotation():\n",
        "    qml.Hadamard(wires=0)\n",
        "    qml.S(wires=0)\n",
        "\n"
      ],
      "metadata": {
        "id": "3RvBBxDlJ2ie"
      },
      "execution_count": 7,
      "outputs": []
    },
    {
      "cell_type": "markdown",
      "source": [
        "# Codercise I.9.2.(b)"
      ],
      "metadata": {
        "id": "-WMV1DppLZDp"
      }
    },
    {
      "cell_type": "code",
      "source": [
        "dev = qml.device(\"default.qubit\", wires=1)\n",
        "\n",
        "@qml.qnode(dev)\n",
        "def measure_in_y_basis():\n",
        "    ##################\n",
        "    # YOUR CODE HERE #\n",
        "    ##################\n",
        "\n",
        "    # PREPARE THE STATE\n",
        "    prepare_psi()\n",
        "\n",
        "    # PERFORM THE ROTATION BACK TO COMPUTATIONAL BASIS\n",
        "    qml.adjoint(y_basis_rotation)()\n",
        "\n",
        "    # RETURN THE MEASUREMENT OUTCOME PROBABILITIES\n",
        "\n",
        "    return qml.probs(wires=0)\n",
        "\n",
        "print(measure_in_y_basis())\n"
      ],
      "metadata": {
        "id": "rJA1hLsKJ61c",
        "colab": {
          "base_uri": "https://localhost:8080/"
        },
        "outputId": "f10cc9a1-192d-4b11-8713-a059edc24e73"
      },
      "execution_count": 8,
      "outputs": [
        {
          "output_type": "stream",
          "name": "stdout",
          "text": [
            "[0.9330127 0.0669873]\n"
          ]
        }
      ]
    }
  ]
}
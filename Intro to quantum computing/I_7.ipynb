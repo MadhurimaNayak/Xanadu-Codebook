{
  "nbformat": 4,
  "nbformat_minor": 0,
  "metadata": {
    "colab": {
      "provenance": [],
      "toc_visible": true,
      "authorship_tag": "ABX9TyMuRHsQGMuME9GeHZpz2mcs"
    },
    "kernelspec": {
      "name": "python3",
      "display_name": "Python 3"
    },
    "language_info": {
      "name": "python"
    }
  },
  "cells": [
    {
      "cell_type": "markdown",
      "source": [
        "# Importing Libraries"
      ],
      "metadata": {
        "id": "vn0IT8bhKgKt"
      }
    },
    {
      "cell_type": "code",
      "source": [
        "import pennylane as qml\n",
        "from pennylane import numpy as np"
      ],
      "metadata": {
        "id": "0uzqppt2JvOV"
      },
      "execution_count": 2,
      "outputs": []
    },
    {
      "cell_type": "markdown",
      "source": [
        "#Codercise I.7.1."
      ],
      "metadata": {
        "id": "Mtic7zbrK5O7"
      }
    },
    {
      "cell_type": "code",
      "source": [
        "dev = qml.device(\"default.qubit\", wires=1)\n",
        "\n",
        "##################\n",
        "# YOUR CODE HERE #\n",
        "##################\n",
        "\n",
        "# ADJUST THE VALUES OF PHI, THETA, AND OMEGA\n",
        "phi, theta, omega = np.pi/2, np.pi/2, np.pi/2\n",
        "\n",
        "@qml.qnode(dev)\n",
        "def hadamard_with_rz_rx():\n",
        "    qml.RZ(phi, wires=0)\n",
        "    qml.RX(theta, wires=0)\n",
        "    qml.RZ(omega, wires=0)\n",
        "    return qml.state()\n"
      ],
      "metadata": {
        "id": "GtI3rwaKJ0lQ"
      },
      "execution_count": 7,
      "outputs": []
    },
    {
      "cell_type": "markdown",
      "source": [
        "# Codercise I.7.2."
      ],
      "metadata": {
        "id": "doh2twJgLLyf"
      }
    },
    {
      "cell_type": "code",
      "source": [
        "dev = qml.device(\"default.qubit\", wires=1)\n",
        "\n",
        "@qml.qnode(dev)\n",
        "def convert_to_rz_rx():\n",
        "    ##################\n",
        "    qml.RZ(np.pi/2, wires=0)\n",
        "    qml.RX(np.pi/2, wires=0)\n",
        "    qml.RZ(np.pi/2, wires=0)\n",
        "    qml.RZ(np.pi/2, wires=0)\n",
        "    qml.RZ(-np.pi/4, wires=0)\n",
        "    qml.RX(np.pi,wires=0)\n",
        "    qml.RZ(np.pi,wires=0)\n",
        "    ##################\n",
        "\n",
        "    # IMPLEMENT THE CIRCUIT IN THE PICTURE USING ONLY RZ AND RX\n",
        "\n",
        "\n",
        "    return qml.state()\n"
      ],
      "metadata": {
        "id": "3RvBBxDlJ2ie"
      },
      "execution_count": 8,
      "outputs": []
    },
    {
      "cell_type": "markdown",
      "source": [
        "# Codercise I.7.3."
      ],
      "metadata": {
        "id": "-WMV1DppLZDp"
      }
    },
    {
      "cell_type": "code",
      "source": [
        "dev = qml.device(\"default.qubit\", wires=1)\n",
        "\n",
        "@qml.qnode(dev)\n",
        "def unitary_with_h_and_t():\n",
        "    ##################\n",
        "    qml.Hadamard(wires=0)\n",
        "    qml.T(wires=0)\n",
        "    qml.Hadamard(wires=0)\n",
        "    qml.T(wires=0)\n",
        "    qml.T(wires=0)\n",
        "    qml.Hadamard(wires=0)\n",
        "    ##################\n",
        "\n",
        "    # APPLY ONLY H AND T TO PRODUCE A CIRCUIT THAT EFFECTS THE GIVEN MATRIX\n",
        "\n",
        "    return qml.state()\n"
      ],
      "metadata": {
        "id": "rJA1hLsKJ61c"
      },
      "execution_count": 9,
      "outputs": []
    }
  ]
}
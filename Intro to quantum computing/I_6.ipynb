{
  "nbformat": 4,
  "nbformat_minor": 0,
  "metadata": {
    "colab": {
      "provenance": [],
      "toc_visible": true,
      "authorship_tag": "ABX9TyPbzAsBpEVNfFAaVysRFR8R"
    },
    "kernelspec": {
      "name": "python3",
      "display_name": "Python 3"
    },
    "language_info": {
      "name": "python"
    }
  },
  "cells": [
    {
      "cell_type": "markdown",
      "source": [
        "# Importing Libraries"
      ],
      "metadata": {
        "id": "vn0IT8bhKgKt"
      }
    },
    {
      "cell_type": "code",
      "source": [
        "import pennylane as qml\n",
        "from pennylane import numpy as np"
      ],
      "metadata": {
        "id": "0uzqppt2JvOV"
      },
      "execution_count": 2,
      "outputs": []
    },
    {
      "cell_type": "markdown",
      "source": [
        "#Codercise I.6.1."
      ],
      "metadata": {
        "id": "Mtic7zbrK5O7"
      }
    },
    {
      "cell_type": "code",
      "source": [
        "dev = qml.device(\"default.qubit\", wires=1)\n",
        "\n",
        "@qml.qnode(dev)\n",
        "def apply_rx_pi(state):\n",
        "    \"\"\"Apply an RX gate with an angle of \\pi to a particular basis state.\n",
        "\n",
        "    Args:\n",
        "        state (int): Either 0 or 1. If 1, initialize the qubit to state |1>\n",
        "            before applying other operations.\n",
        "\n",
        "    Returns:\n",
        "        array[complex]: The state of the qubit after the operations.\n",
        "    \"\"\"\n",
        "    if state == 1:\n",
        "        qml.PauliX(wires=0)\n",
        "\n",
        "    ##################\n",
        "    qml.RX(np.pi,wires=0)\n",
        "    ##################\n",
        "\n",
        "    # APPLY RX(pi) AND RETURN THE STATE\n",
        "\n",
        "    return qml.state()\n",
        "\n",
        "print(apply_rx_pi(0))\n",
        "print(apply_rx_pi(1))\n"
      ],
      "metadata": {
        "id": "GtI3rwaKJ0lQ",
        "colab": {
          "base_uri": "https://localhost:8080/"
        },
        "outputId": "027bcb9a-132a-4809-f500-d0420b779744"
      },
      "execution_count": 3,
      "outputs": [
        {
          "output_type": "stream",
          "name": "stdout",
          "text": [
            "[6.123234e-17+0.j 0.000000e+00-1.j]\n",
            "[0.000000e+00-1.j 6.123234e-17+0.j]\n"
          ]
        }
      ]
    },
    {
      "cell_type": "markdown",
      "source": [
        "# Codercise I.6.2."
      ],
      "metadata": {
        "id": "doh2twJgLLyf"
      }
    },
    {
      "cell_type": "code",
      "source": [
        "dev = qml.device('default.qubit', wires=1)\n",
        "\n",
        "@qml.qnode(dev)\n",
        "def apply_rx(theta, state):\n",
        "    \"\"\"Apply an RX gate with an angle of theta to a particular basis state.\n",
        "\n",
        "    Args:\n",
        "        theta (float): A rotation angle.\n",
        "        state (int): Either 0 or 1. If 1, initialize the qubit to state |1>\n",
        "            before applying other operations.\n",
        "\n",
        "    Returns:\n",
        "        array[complex]: The state of the qubit after the operations.\n",
        "    \"\"\"\n",
        "    if state == 1:\n",
        "        qml.PauliX(wires=0)\n",
        "\n",
        "    ##################\n",
        "    qml.RX(theta,wires=0)\n",
        "    ##################\n",
        "\n",
        "    # APPLY RX(theta) AND RETURN THE STATE\n",
        "\n",
        "    return qml.state()\n",
        "\n",
        "# Code for plotting\n",
        "angles = np.linspace(0, 4*np.pi, 200)\n",
        "output_states = np.array([apply_rx(t, 1) for t in angles])\n",
        "\n"
      ],
      "metadata": {
        "id": "3RvBBxDlJ2ie"
      },
      "execution_count": 5,
      "outputs": []
    },
    {
      "cell_type": "markdown",
      "source": [
        "# Codercise I.6.3."
      ],
      "metadata": {
        "id": "-WMV1DppLZDp"
      }
    },
    {
      "cell_type": "code",
      "source": [
        "dev = qml.device('default.qubit', wires=1)\n",
        "\n",
        "@qml.qnode(dev)\n",
        "def apply_ry(theta, state):\n",
        "    \"\"\"Apply an RY gate with an angle of theta to a particular basis state.\n",
        "\n",
        "    Args:\n",
        "        theta (float): A rotation angle.\n",
        "        state (int): Either 0 or 1. If 1, initialize the qubit to state |1>\n",
        "            before applying other operations.\n",
        "\n",
        "    Returns:\n",
        "        array[complex]: The state of the qubit after the operations.\n",
        "    \"\"\"\n",
        "    if state == 1:\n",
        "        qml.PauliX(wires=0)\n",
        "\n",
        "    ##################\n",
        "    qml.RY(theta,wires=0)\n",
        "    ##################\n",
        "\n",
        "    # APPLY RY(theta) AND RETURN THE STATE\n",
        "\n",
        "    return qml.state()\n",
        "\n",
        "# Code for plotting\n",
        "angles = np.linspace(0, 4*np.pi, 200)\n",
        "output_states = np.array([apply_ry(t, 0) for t in angles])\n",
        "\n"
      ],
      "metadata": {
        "id": "rJA1hLsKJ61c"
      },
      "execution_count": 6,
      "outputs": []
    }
  ]
}

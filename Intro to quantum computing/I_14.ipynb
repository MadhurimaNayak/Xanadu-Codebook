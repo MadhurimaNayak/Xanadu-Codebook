{
  "nbformat": 4,
  "nbformat_minor": 0,
  "metadata": {
    "colab": {
      "provenance": [],
      "toc_visible": true,
      "authorship_tag": "ABX9TyNtM3+vdkNGtChGifIeDrdP"
    },
    "kernelspec": {
      "name": "python3",
      "display_name": "Python 3"
    },
    "language_info": {
      "name": "python"
    }
  },
  "cells": [
    {
      "cell_type": "markdown",
      "source": [
        "# Importing Libraries"
      ],
      "metadata": {
        "id": "vn0IT8bhKgKt"
      }
    },
    {
      "cell_type": "code",
      "source": [
        "import pennylane as qml\n",
        "from pennylane import numpy as np"
      ],
      "metadata": {
        "id": "0uzqppt2JvOV"
      },
      "execution_count": 22,
      "outputs": []
    },
    {
      "cell_type": "markdown",
      "source": [
        "#Codercise I.14.1."
      ],
      "metadata": {
        "id": "Mtic7zbrK5O7"
      }
    },
    {
      "cell_type": "code",
      "source": [
        "dev = qml.device('default.qubit', wires=2)\n",
        "\n",
        "# Starting from the state |00>, implement a PennyLane circuit\n",
        "# to construct each of the Bell basis states.\n",
        "\n",
        "@qml.qnode(dev)\n",
        "def prepare_psi_plus():\n",
        "    ##################\n",
        "    qml.Hadamard(wires=0)\n",
        "    qml.CNOT(wires=[0,1])\n",
        "    ##################\n",
        "\n",
        "    # PREPARE (1/sqrt(2)) (|00> + |11>)\n",
        "\n",
        "    return qml.state()\n",
        "\n",
        "\n",
        "@qml.qnode(dev)\n",
        "def prepare_psi_minus():\n",
        "    ##################\n",
        "    qml.PauliX(wires=0)\n",
        "    qml.Hadamard(wires=0)\n",
        "    qml.CNOT(wires=[0,1])\n",
        "    ##################\n",
        "\n",
        "    # PREPARE (1/sqrt(2)) (|00> - |11>)\n",
        "\n",
        "    return qml.state()\n",
        "\n",
        "\n",
        "@qml.qnode(dev)\n",
        "def prepare_phi_plus():\n",
        "    ##################\n",
        "    qml.Hadamard(wires=0)\n",
        "    qml.PauliX(wires=1)\n",
        "    qml.CNOT(wires=[0,1])\n",
        "    ##################\n",
        "\n",
        "    # PREPARE  (1/sqrt(2)) (|01> + |10>)\n",
        "\n",
        "    return qml.state()\n",
        "\n",
        "\n",
        "@qml.qnode(dev)\n",
        "def prepare_phi_minus():\n",
        "    ##################\n",
        "    qml.PauliX(wires=0)\n",
        "    qml.Hadamard(wires=0)\n",
        "    qml.PauliX(wires=1)\n",
        "    qml.CNOT(wires=[0,1])\n",
        "    ##################\n",
        "\n",
        "    # PREPARE  (1/sqrt(2)) (|01> - |10>)\n",
        "\n",
        "    return qml.state()\n",
        "\n",
        "\n",
        "psi_plus = prepare_psi_plus()\n",
        "psi_minus = prepare_psi_minus()\n",
        "phi_plus = prepare_phi_plus()\n",
        "phi_minus = prepare_phi_minus()\n",
        "\n",
        "# Uncomment to print results\n",
        "print(f\"|ψ_+> = {psi_plus}\")\n",
        "print(f\"|ψ_-> = {psi_minus}\")\n",
        "print(f\"|ϕ_+> = {phi_plus}\")\n",
        "print(f\"|ϕ_-> = {phi_minus}\")\n"
      ],
      "metadata": {
        "id": "GtI3rwaKJ0lQ",
        "colab": {
          "base_uri": "https://localhost:8080/"
        },
        "outputId": "01985ad2-ebd5-46ff-e629-f7aa6aab365d"
      },
      "execution_count": 23,
      "outputs": [
        {
          "output_type": "stream",
          "name": "stdout",
          "text": [
            "|ψ_+> = [0.70710678+0.j 0.        +0.j 0.        +0.j 0.70710678+0.j]\n",
            "|ψ_-> = [ 0.70710678+0.j  0.        +0.j  0.        +0.j -0.70710678+0.j]\n",
            "|ϕ_+> = [0.        +0.j 0.70710678+0.j 0.70710678+0.j 0.        +0.j]\n",
            "|ϕ_-> = [ 0.        +0.j  0.70710678+0.j -0.70710678+0.j  0.        +0.j]\n"
          ]
        }
      ]
    },
    {
      "cell_type": "markdown",
      "source": [
        "# Codercise I.14.2."
      ],
      "metadata": {
        "id": "doh2twJgLLyf"
      }
    },
    {
      "cell_type": "code",
      "source": [
        "dev = qml.device(\"default.qubit\", wires=3)\n",
        "\n",
        "# State of first 2 qubits\n",
        "\n",
        "state = [0, 1]\n",
        "\n",
        "@qml.qnode(device=dev)\n",
        "def apply_control_sequence(state):\n",
        "    # Set up initial state of the first two qubits\n",
        "    if state[0] == 1:\n",
        "        qml.PauliX(wires=0)\n",
        "    if state[1] == 1:\n",
        "        qml.PauliX(wires=1)\n",
        "\n",
        "    # Set up initial state of the third qubit - use |->\n",
        "    # so we can see the effect on the output\n",
        "    qml.PauliX(wires=2)\n",
        "    qml.Hadamard(wires=2)\n",
        "\n",
        "    ##################\n",
        "\n",
        "    ##################\n",
        "\n",
        "    # IMPLEMENT THE MULTIPLEXER\n",
        "    # IF STATE OF FIRST TWO QUBITS IS 01, APPLY X TO THIRD QUBIT\n",
        "    qml.PauliX(wires=0)\n",
        "    qml.Toffoli(wires=[0,1,2])\n",
        "    qml.PauliX(wires=0)\n",
        "\n",
        "    # IF STATE OF FIRST TWO QUBITS IS 10, APPLY Z TO THIRD QUBIT\n",
        "    qml.PauliX(wires=1)\n",
        "    qml.Hadamard(wires=2)\n",
        "    qml.Toffoli(wires=[0,1,2])\n",
        "    qml.Hadamard(wires=2)\n",
        "    qml.PauliX(wires=1)\n",
        "\n",
        "\n",
        "    # IF STATE OF FIRST TWO QUBITS IS 11, APPLY Y TO THIRD QUBIT\n",
        "\n",
        "    qml.adjoint(qml.S)(wires=2)\n",
        "    qml.Toffoli(wires=[0,1,2])\n",
        "    qml.S(wires=2)\n",
        "\n",
        "\n",
        "    return qml.state()\n",
        "\n",
        "\n",
        "print(apply_control_sequence(state))\n"
      ],
      "metadata": {
        "id": "3RvBBxDlJ2ie",
        "colab": {
          "base_uri": "https://localhost:8080/"
        },
        "outputId": "474609a7-e496-4c65-fbd7-93494f119d5c"
      },
      "execution_count": 24,
      "outputs": [
        {
          "output_type": "stream",
          "name": "stdout",
          "text": [
            "[ 0.        +0.j  0.        +0.j -0.70710678+0.j  0.70710678+0.j\n",
            "  0.        +0.j  0.        +0.j  0.        +0.j  0.        +0.j]\n"
          ]
        }
      ]
    }
  ]
}
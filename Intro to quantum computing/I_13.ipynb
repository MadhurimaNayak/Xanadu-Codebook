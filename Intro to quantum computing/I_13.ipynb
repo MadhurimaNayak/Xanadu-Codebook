{
  "nbformat": 4,
  "nbformat_minor": 0,
  "metadata": {
    "colab": {
      "provenance": [],
      "toc_visible": true,
      "authorship_tag": "ABX9TyPZrX4z9ITSIlzjGm9v8Eem"
    },
    "kernelspec": {
      "name": "python3",
      "display_name": "Python 3"
    },
    "language_info": {
      "name": "python"
    }
  },
  "cells": [
    {
      "cell_type": "markdown",
      "source": [
        "# Importing Libraries"
      ],
      "metadata": {
        "id": "vn0IT8bhKgKt"
      }
    },
    {
      "cell_type": "code",
      "source": [
        "import pennylane as qml\n",
        "from pennylane import numpy as np"
      ],
      "metadata": {
        "id": "0uzqppt2JvOV"
      },
      "execution_count": 2,
      "outputs": []
    },
    {
      "cell_type": "markdown",
      "source": [
        "#Codercise I.13.1."
      ],
      "metadata": {
        "id": "Mtic7zbrK5O7"
      }
    },
    {
      "cell_type": "code",
      "source": [
        "dev = qml.device(\"default.qubit\", wires=2)\n",
        "\n",
        "# Prepare a two-qubit state; change up the angles if you like\n",
        "phi, theta, omega = 1.2, 2.3, 3.4\n",
        "\n",
        "\n",
        "@qml.qnode(device=dev)\n",
        "def true_cz(phi, theta, omega):\n",
        "    prepare_states(phi, theta, omega)\n",
        "\n",
        "    ##################\n",
        "    qml.CZ(wires=[0,1])\n",
        "    ##################\n",
        "\n",
        "    # IMPLEMENT THE REGULAR CZ GATE HERE\n",
        "\n",
        "    return qml.state()\n",
        "\n",
        "\n",
        "@qml.qnode(dev)\n",
        "def imposter_cz(phi, theta, omega):\n",
        "    prepare_states(phi, theta, omega)\n",
        "\n",
        "    ##################\n",
        "    qml.Hadamard(wires=1)\n",
        "    qml.CNOT(wires=[0,1])\n",
        "    qml.Hadamard(wires=1)\n",
        "    ##################\n",
        "\n",
        "    # IMPLEMENT CZ USING ONLY H AND CNOT\n",
        "\n",
        "    return qml.state()\n",
        "\n",
        "\n",
        "print(f\"True CZ output state {true_cz(phi, theta, omega)}\")\n",
        "print(f\"Imposter CZ output state {imposter_cz(phi, theta, omega)}\")\n"
      ],
      "metadata": {
        "id": "GtI3rwaKJ0lQ",
        "colab": {
          "base_uri": "https://localhost:8080/"
        },
        "outputId": "9a90fad3-a49d-4827-bb30-782543b896a0"
      },
      "execution_count": 19,
      "outputs": [
        {
          "output_type": "stream",
          "name": "stdout",
          "text": [
            "[1.+0.j 0.+0.j 0.+0.j 0.+0.j]\n",
            "[0.+0.j 1.+0.j 0.+0.j 0.+0.j]\n",
            "[0.+0.j 0.+0.j 0.+0.j 1.+0.j]\n",
            "[0.+0.j 0.+0.j 1.+0.j 0.+0.j]\n"
          ]
        }
      ]
    },
    {
      "cell_type": "markdown",
      "source": [
        "# Codercise I.13.2."
      ],
      "metadata": {
        "id": "doh2twJgLLyf"
      }
    },
    {
      "cell_type": "code",
      "source": [
        "dev = qml.device(\"default.qubit\", wires=2)\n",
        "\n",
        "# Prepare a two-qubit state; change up the angles if you like\n",
        "phi, theta, omega = 1.2, 2.3, 3.4\n",
        "\n",
        "\n",
        "@qml.qnode(dev)\n",
        "def apply_swap(phi, theta, omega):\n",
        "    prepare_states(phi, theta, omega)\n",
        "\n",
        "    ##################\n",
        "    qml.SWAP(wires=[0,1])\n",
        "    ##################\n",
        "\n",
        "    # IMPLEMENT THE REGULAR SWAP GATE HERE\n",
        "\n",
        "    return qml.state()\n",
        "\n",
        "\n",
        "@qml.qnode(dev)\n",
        "def apply_swap_with_cnots(phi, theta, omega):\n",
        "    prepare_states(phi, theta, omega)\n",
        "\n",
        "    ##################\n",
        "    qml.CNOT(wires=[0,1])\n",
        "    qml.CNOT(wires=[1,0])\n",
        "    qml.CNOT(wires=[0,1])\n",
        "    ##################\n",
        "\n",
        "    # IMPLEMENT THE SWAP GATE USING A SEQUENCE OF CNOTS\n",
        "\n",
        "    return qml.state()\n",
        "\n",
        "\n",
        "print(f\"Regular SWAP state = {apply_swap(phi, theta, omega)}\")\n",
        "print(f\"CNOT SWAP state = {apply_swap_with_cnots(phi, theta, omega)}\")\n"
      ],
      "metadata": {
        "id": "3RvBBxDlJ2ie",
        "colab": {
          "base_uri": "https://localhost:8080/"
        },
        "outputId": "f3396013-33e2-4974-cde5-93c06cd8ff6c"
      },
      "execution_count": 20,
      "outputs": [
        {
          "output_type": "stream",
          "name": "stdout",
          "text": [
            "[0.70710678+0.j 0.        +0.j 0.        +0.j 0.70710678+0.j]\n"
          ]
        }
      ]
    },
    {
      "cell_type": "markdown",
      "source": [
        "# Codercise I.13.3."
      ],
      "metadata": {
        "id": "-WMV1DppLZDp"
      }
    },
    {
      "cell_type": "code",
      "source": [
        "dev = qml.device(\"default.qubit\", wires=3)\n",
        "\n",
        "# Prepare first qubit in |1>, and arbitrary states on the second two qubits\n",
        "phi, theta, omega = 1.2, 2.3, 3.4\n",
        "\n",
        "\n",
        "# A helper function just so you can visualize the initial state\n",
        "# before the controlled SWAP occurs.\n",
        "@qml.qnode(dev)\n",
        "def no_swap(phi, theta, omega):\n",
        "    prepare_states(phi, theta, omega)\n",
        "    return qml.state()\n",
        "\n",
        "\n",
        "@qml.qnode(dev)\n",
        "def controlled_swap(phi, theta, omega):\n",
        "    prepare_states(phi, theta, omega)\n",
        "\n",
        "    ##################\n",
        "    qml.Toffoli(wires=[0, 1, 2])\n",
        "    qml.Toffoli(wires=[0,2,1])\n",
        "    qml.Toffoli(wires=[0, 1, 2])\n",
        "    ##################\n",
        "\n",
        "    # PERFORM A CONTROLLED SWAP USING A SEQUENCE OF TOFFOLIS\n",
        "\n",
        "    return qml.state()\n",
        "\n",
        "\n",
        "print(no_swap(phi, theta, omega))\n",
        "print(controlled_swap(phi, theta, omega))\n"
      ],
      "metadata": {
        "id": "rJA1hLsKJ61c",
        "colab": {
          "base_uri": "https://localhost:8080/"
        },
        "outputId": "aa918173-a900-46ea-88ac-aa316d2a7c93"
      },
      "execution_count": 21,
      "outputs": [
        {
          "output_type": "stream",
          "name": "stdout",
          "text": [
            "[5.00000000e-01 0.00000000e+00 0.00000000e+00 0.00000000e+00\n",
            " 4.98751041e-01 0.00000000e+00 1.23651067e-03 1.24480103e-05]\n"
          ]
        }
      ]
    },
    {
      "cell_type": "markdown",
      "source": [
        "#Codercise I.13.4."
      ],
      "metadata": {
        "id": "rPfdCl0cQYF_"
      }
    },
    {
      "cell_type": "code",
      "source": [
        "dev = qml.device('default.qubit', wires=4)\n",
        "\n",
        "@qml.qnode(dev)\n",
        "def four_qubit_mcx():\n",
        "    ##################\n",
        "    qml.Hadamard(wires=0)\n",
        "    qml.Hadamard(wires=1)\n",
        "    qml.Hadamard(wires=2)\n",
        "\n",
        "    qml.MultiControlledX(control_wires=[0, 1, 2], wires=3, control_values=\"001\")\n",
        "    ##################\n",
        "\n",
        "    # IMPLEMENT THE CIRCUIT ABOVE USING A 4-QUBIT MULTI-CONTROLLED X\n",
        "\n",
        "    return qml.state()\n",
        "\n",
        "\n",
        "print(four_qubit_mcx())\n"
      ],
      "metadata": {
        "id": "Em_HuIO0QY_o"
      },
      "execution_count": null,
      "outputs": []
    },
    {
      "cell_type": "markdown",
      "source": [
        "#Codercise I.13.5."
      ],
      "metadata": {
        "id": "srVOgHQOQbvZ"
      }
    },
    {
      "cell_type": "code",
      "source": [
        "# Wires 0, 1, 2 are the control qubits\n",
        "# Wire 3 is the auxiliary qubit\n",
        "# Wire 4 is the target\n",
        "dev = qml.device('default.qubit', wires=5)\n",
        "\n",
        "\n",
        "@qml.qnode(dev)\n",
        "def four_qubit_mcx_only_tofs():\n",
        "    # We will initialize the control qubits in state |1> so you can see\n",
        "    # how the output state gets changed.\n",
        "    qml.PauliX(wires=0)\n",
        "    qml.PauliX(wires=1)\n",
        "    qml.PauliX(wires=2)\n",
        "\n",
        "    ##################\n",
        "    qml.Toffoli(wires=[0,1,3])\n",
        "    qml.Toffoli(wires=[2,3,4])\n",
        "    qml.Toffoli(wires=[0,1,3])\n",
        "\n",
        "    ##################\n",
        "\n",
        "    # IMPLEMENT A 3-CONTROLLED NOT WITH TOFFOLIS\n",
        "\n",
        "    return qml.state()\n",
        "\n",
        "\n",
        "#print(four_qubit_mcx_only_tofs())\n"
      ],
      "metadata": {
        "id": "34ZYC7BGQcfj"
      },
      "execution_count": null,
      "outputs": []
    }
  ]
}
{
  "nbformat": 4,
  "nbformat_minor": 0,
  "metadata": {
    "colab": {
      "provenance": [],
      "toc_visible": true,
      "authorship_tag": "ABX9TyNyOY/qiXFLF4rs+sWJ0ayc"
    },
    "kernelspec": {
      "name": "python3",
      "display_name": "Python 3"
    },
    "language_info": {
      "name": "python"
    }
  },
  "cells": [
    {
      "cell_type": "markdown",
      "source": [
        "# Importing Libraries"
      ],
      "metadata": {
        "id": "vn0IT8bhKgKt"
      }
    },
    {
      "cell_type": "code",
      "source": [
        "import pennylane as qml\n",
        "from pennylane import numpy as np"
      ],
      "metadata": {
        "id": "0uzqppt2JvOV"
      },
      "execution_count": 2,
      "outputs": []
    },
    {
      "cell_type": "markdown",
      "source": [
        "#Codercise I.8.1."
      ],
      "metadata": {
        "id": "Mtic7zbrK5O7"
      }
    },
    {
      "cell_type": "code",
      "source": [
        "dev = qml.device(\"default.qubit\", wires=1)\n",
        "\n",
        "@qml.qnode(dev)\n",
        "def prepare_state():\n",
        "    ##################\n",
        "    qml.Hadamard(wires=0)\n",
        "    for i in range(5):\n",
        "        qml.T(wires=0)\n",
        "    ##################\n",
        "\n",
        "    # APPLY OPERATIONS TO PREPARE THE TARGET STATE\n",
        "\n",
        "    return qml.state()\n"
      ],
      "metadata": {
        "id": "GtI3rwaKJ0lQ"
      },
      "execution_count": 3,
      "outputs": []
    },
    {
      "cell_type": "markdown",
      "source": [
        "# Codercise I.8.2."
      ],
      "metadata": {
        "id": "doh2twJgLLyf"
      }
    },
    {
      "cell_type": "code",
      "source": [
        "dev = qml.device(\"default.qubit\", wires=1)\n",
        "\n",
        "@qml.qnode(dev)\n",
        "def prepare_state():\n",
        "    ##################\n",
        "    qml.RX(np.pi/3,wires=0)\n",
        "    ##################\n",
        "\n",
        "    # APPLY OPERATIONS TO PREPARE THE TARGET STATE\n",
        "\n",
        "    return qml.state()\n"
      ],
      "metadata": {
        "id": "3RvBBxDlJ2ie"
      },
      "execution_count": 4,
      "outputs": []
    },
    {
      "cell_type": "markdown",
      "source": [
        "# Codercise I.8.3."
      ],
      "metadata": {
        "id": "-WMV1DppLZDp"
      }
    },
    {
      "cell_type": "code",
      "source": [
        "v = np.array([0.52889389-0.14956775j, 0.67262317+0.49545818j])\n",
        "\n",
        "##################\n",
        "# YOUR CODE HERE #\n",
        "##################\n",
        "\n",
        "# CREATE A DEVICE\n",
        "dev=qml.device(\"default.qubit\",wires=1)\n",
        "@qml.qnode(dev)\n",
        "\n",
        "\n",
        "# CONSTRUCT A QNODE THAT USES qml.StatePrep\n",
        "# TO PREPARE A QUBIT IN STATE V, AND RETURN THE STATE\n",
        "\n",
        "def prepare_state(state=v):\n",
        "    qml.StatePrep(state,wires=0)\n",
        "    return qml.state()\n",
        "\n",
        "# This will draw the quantum circuit and allow you to inspect the output gates\n",
        "print(prepare_state(v))\n",
        "print()\n",
        "print(qml.draw(prepare_state, expansion_strategy='device')(v))\n"
      ],
      "metadata": {
        "id": "rJA1hLsKJ61c",
        "colab": {
          "base_uri": "https://localhost:8080/"
        },
        "outputId": "2b3fe831-18bd-4f1f-cf75-e5e6c17c32b6"
      },
      "execution_count": 5,
      "outputs": [
        {
          "output_type": "stream",
          "name": "stdout",
          "text": [
            "[0.52889389-0.14956775j 0.67262317+0.49545818j]\n",
            "\n",
            "0: ──|Ψ⟩─┤  State\n"
          ]
        }
      ]
    }
  ]
}
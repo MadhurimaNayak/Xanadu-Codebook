{
  "nbformat": 4,
  "nbformat_minor": 0,
  "metadata": {
    "colab": {
      "provenance": [],
      "authorship_tag": "ABX9TyNn0ZQVXy388hBE0uVz5GPx",
      "include_colab_link": true
    },
    "kernelspec": {
      "name": "python3",
      "display_name": "Python 3"
    },
    "language_info": {
      "name": "python"
    }
  },
  "cells": [
    {
      "cell_type": "code",
      "source": [
        "import numpy as np\n",
        "import pennylane as qml"
      ],
      "metadata": {
        "id": "tyoZ9M-xJw58"
      },
      "execution_count": 2,
      "outputs": []
    },
    {
      "cell_type": "code",
      "source": [
        "def my_circuit(theta, phi):\n",
        "    ##################\n",
        "    # YOUR CODE HERE #\n",
        "    ##################\n",
        "\n",
        "    # REORDER THESE 5 GATES TO MATCH THE CIRCUIT IN THE PICTURE\n",
        "\n",
        "    qml.CNOT(wires=[0, 1])\n",
        "    qml.RX(theta, wires=2)\n",
        "    qml.Hadamard(wires=0)\n",
        "    qml.CNOT(wires=[2, 0])\n",
        "    qml.RY(phi, wires=1)\n",
        "\n",
        "    # This is the measurement; we return the probabilities of all possible output states\n",
        "    # You'll learn more about what types of measurements are available in a later node\n",
        "    return qml.probs(wires=[0, 1, 2])\n"
      ],
      "metadata": {
        "id": "SdHLu5rRJ3tg"
      },
      "execution_count": 3,
      "outputs": []
    },
    {
      "cell_type": "code",
      "source": [
        "# This creates a device with three wires on which PennyLane can run computations\n",
        "dev = qml.device(\"default.qubit\", wires=3)\n",
        "\n",
        "\n",
        "def my_circuit(theta, phi, omega):\n",
        "\n",
        "    ##################\n",
        "    qml.RX(theta,wires=0)\n",
        "    qml.RY(phi,wires=1)\n",
        "    qml.RZ(omega,wires=2)\n",
        "    qml.CNOT(wires=[0,1])\n",
        "    qml.CNOT(wires=[1,2])\n",
        "    qml.CNOT(wires=[2,0])\n",
        "    ##################\n",
        "\n",
        "    # IMPLEMENT THE CIRCUIT BY ADDING THE GATES\n",
        "\n",
        "    # Here are two examples, so you can see the format:\n",
        "    # qml.CNOT(wires=[0, 1])\n",
        "    # qml.RX(theta, wires=0)\n",
        "\n",
        "\n",
        "\n",
        "\n",
        "    return qml.probs(wires=[0, 1, 2])\n",
        "\n",
        "\n",
        "# This creates a QNode, binding the function and device\n",
        "my_qnode = qml.QNode(my_circuit, dev)\n",
        "\n",
        "# We set up some values for the input parameters\n",
        "theta, phi, omega = 0.1, 0.2, 0.3\n",
        "\n",
        "# Now we can execute the QNode by calling it like we would a regular function\n",
        "my_qnode(theta, phi, omega)\n"
      ],
      "metadata": {
        "colab": {
          "base_uri": "https://localhost:8080/"
        },
        "id": "9vuMucHWKA8m",
        "outputId": "9fea3285-9d35-43e2-acae-41e5fa7d1f71"
      },
      "execution_count": 4,
      "outputs": [
        {
          "output_type": "execute_result",
          "data": {
            "text/plain": [
              "tensor([9.87560268e-01, 0.00000000e+00, 0.00000000e+00, 2.47302134e-03,\n",
              "        2.48960206e-05, 0.00000000e+00, 0.00000000e+00, 9.94181506e-03], requires_grad=True)"
            ]
          },
          "metadata": {},
          "execution_count": 4
        }
      ]
    },
    {
      "cell_type": "code",
      "source": [
        "dev = qml.device(\"default.qubit\", wires=3)\n",
        "\n",
        "##################\n",
        "@qml.qnode(dev)\n",
        "##################\n",
        "\n",
        "# DECORATE THE FUNCTION BELOW TO TURN IT INTO A QNODE\n",
        "\n",
        "def my_circuit(theta, phi, omega):\n",
        "    qml.RX(theta, wires=0)\n",
        "    qml.RY(phi, wires=1)\n",
        "    qml.RZ(omega, wires=2)\n",
        "    qml.CNOT(wires=[0, 1])\n",
        "    qml.CNOT(wires=[1, 2])\n",
        "    qml.CNOT(wires=[2, 0])\n",
        "    return qml.probs(wires=[0, 1, 2])\n",
        "\n",
        "\n",
        "theta, phi, omega = 0.1, 0.2, 0.3\n",
        "\n",
        "##################\n",
        "my_circuit(theta,phi,omega)\n",
        "##################\n",
        "\n",
        "# RUN THE QNODE WITH THE PROVIDED PARAMETERS\n",
        "\n",
        "\n"
      ],
      "metadata": {
        "colab": {
          "base_uri": "https://localhost:8080/"
        },
        "id": "G-6IGMOOKFej",
        "outputId": "8a060c94-2937-4600-9aaf-337af950733b"
      },
      "execution_count": 5,
      "outputs": [
        {
          "output_type": "execute_result",
          "data": {
            "text/plain": [
              "tensor([9.87560268e-01, 0.00000000e+00, 0.00000000e+00, 2.47302134e-03,\n",
              "        2.48960206e-05, 0.00000000e+00, 0.00000000e+00, 9.94181506e-03], requires_grad=True)"
            ]
          },
          "metadata": {},
          "execution_count": 5
        }
      ]
    },
    {
      "cell_type": "code",
      "source": [
        "dev = qml.device(\"default.qubit\", wires=3)\n",
        "\n",
        "@qml.qnode(dev)\n",
        "def my_circuit(theta, phi, omega):\n",
        "    qml.RX(theta, wires=0)\n",
        "    qml.RY(phi, wires=1)\n",
        "    qml.RZ(omega, wires=2)\n",
        "    qml.CNOT(wires=[0, 1])\n",
        "    qml.CNOT(wires=[1, 2])\n",
        "    qml.CNOT(wires=[2, 0])\n",
        "    return qml.probs(wires=[0, 1, 2])\n",
        "\n",
        "\n",
        "##################\n",
        "resource=qml.specs(my_circuit)\n",
        "theta, phi, omega = 0.1, 0.2, 0.3\n",
        "print(resource(theta, phi, omega))\n",
        "##################\n",
        "\n",
        "# FILL IN THE CORRECT CIRCUIT DEPTH\n",
        "depth = 4\n"
      ],
      "metadata": {
        "colab": {
          "base_uri": "https://localhost:8080/"
        },
        "id": "_CWdzXZMKMfZ",
        "outputId": "e8086bda-caca-4198-f965-160c6e09d00e"
      },
      "execution_count": 6,
      "outputs": [
        {
          "output_type": "stream",
          "name": "stdout",
          "text": [
            "{'resources': Resources(num_wires=3, num_gates=6, gate_types=defaultdict(<class 'int'>, {'RX': 1, 'RY': 1, 'RZ': 1, 'CNOT': 3}), gate_sizes=defaultdict(<class 'int'>, {1: 3, 2: 3}), depth=4, shots=Shots(total_shots=None, shot_vector=())), 'errors': {}, 'num_observables': 1, 'num_diagonalizing_gates': 0, 'num_trainable_params': 0, 'num_device_wires': 3, 'device_name': 'default.qubit', 'expansion_strategy': 'gradient', 'gradient_options': {}, 'interface': 'auto', 'diff_method': 'best', 'gradient_fn': 'backprop'}\n"
          ]
        }
      ]
    }
  ]
}
